{
 "cells": [
  {
   "cell_type": "code",
   "execution_count": 1,
   "id": "1ad211a9",
   "metadata": {},
   "outputs": [],
   "source": [
    "import json"
   ]
  },
  {
   "cell_type": "code",
   "execution_count": 4,
   "id": "ced031a1",
   "metadata": {},
   "outputs": [],
   "source": [
    "file_name = 'patients.json'\n",
    "with open(file_name, 'r') as file:\n",
    "    \n",
    "    json_data = json.load(file)\n"
   ]
  },
  {
   "cell_type": "code",
   "execution_count": 7,
   "id": "35840bc3",
   "metadata": {},
   "outputs": [
    {
     "data": {
      "text/plain": [
       "[{'patient_id': 1,\n",
       "  'data': {'name': 'Max',\n",
       "   'age': 29,\n",
       "   'created_at': '2023-11-08T17:44:12.913638',\n",
       "   'journal_entries': [],\n",
       "   'contextual_information': {'therapy_goals': 'Do good'}}},\n",
       " {'patient_id': 2,\n",
       "  'data': {'name': 'Iain',\n",
       "   'age': 30,\n",
       "   'created_at': '2023-11-08T17:44:25.250310',\n",
       "   'journal_entries': [],\n",
       "   'contextual_information': {'therapy_goals': 'Do more good'}}}]"
      ]
     },
     "execution_count": 7,
     "metadata": {},
     "output_type": "execute_result"
    }
   ],
   "source": [
    "json_data"
   ]
  },
  {
   "cell_type": "code",
   "execution_count": 10,
   "id": "9460b472",
   "metadata": {},
   "outputs": [
    {
     "name": "stdout",
     "output_type": "stream",
     "text": [
      "Max\n"
     ]
    }
   ],
   "source": [
    "for user in json_data:\n",
    "    if user['patient_id'] == 1:\n",
    "        print(user['data']['name'])"
   ]
  },
  {
   "cell_type": "code",
   "execution_count": null,
   "id": "3cbf1792",
   "metadata": {},
   "outputs": [],
   "source": []
  }
 ],
 "metadata": {
  "kernelspec": {
   "display_name": "Python 3 (ipykernel)",
   "language": "python",
   "name": "python3"
  },
  "language_info": {
   "codemirror_mode": {
    "name": "ipython",
    "version": 3
   },
   "file_extension": ".py",
   "mimetype": "text/x-python",
   "name": "python",
   "nbconvert_exporter": "python",
   "pygments_lexer": "ipython3",
   "version": "3.11.5"
  }
 },
 "nbformat": 4,
 "nbformat_minor": 5
}
