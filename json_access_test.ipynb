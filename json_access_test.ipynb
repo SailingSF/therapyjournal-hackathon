{
 "cells": [
  {
   "cell_type": "code",
   "execution_count": 1,
   "id": "760d449a",
   "metadata": {},
   "outputs": [],
   "source": [
    "import json"
   ]
  },
  {
   "cell_type": "code",
   "execution_count": 18,
   "id": "c7241030",
   "metadata": {},
   "outputs": [],
   "source": [
    "file_name = 'patients.json'\n",
    "with open(file_name, 'r') as file:\n",
    "    \n",
    "    json_data = json.load(file)\n"
   ]
  },
  {
   "cell_type": "code",
   "execution_count": 19,
   "id": "1bf885e2",
   "metadata": {},
   "outputs": [
    {
     "data": {
      "text/plain": [
       "[{'patient_id': 1,\n",
       "  'data': {'name': 'Max',\n",
       "   'age': 29,\n",
       "   'created_at': '2023-11-08T17:44:12.913638',\n",
       "   'journal_entries': [],\n",
       "   'contextual_information': {'therapy_goals': 'Do good'}}},\n",
       " {'patient_id': 2,\n",
       "  'data': {'name': 'Iain',\n",
       "   'age': 30,\n",
       "   'created_at': '2023-11-08T17:44:25.250310',\n",
       "   'journal_entries': [],\n",
       "   'contextual_information': {'therapy_goals': 'Do more good'}}}]"
      ]
     },
     "execution_count": 19,
     "metadata": {},
     "output_type": "execute_result"
    }
   ],
   "source": [
    "json_data"
   ]
  },
  {
   "cell_type": "code",
   "execution_count": 20,
   "id": "97137e02",
   "metadata": {},
   "outputs": [
    {
     "name": "stdout",
     "output_type": "stream",
     "text": [
      "Max\n"
     ]
    }
   ],
   "source": [
    "user_id = 1\n",
    "for user in json_data:\n",
    "    if user['patient_id'] == user_id:\n",
    "        print(user['data']['name'])"
   ]
  },
  {
   "cell_type": "code",
   "execution_count": 16,
   "id": "fc9d5479",
   "metadata": {},
   "outputs": [
    {
     "data": {
      "text/plain": [
       "\"Please prompt the user to write a journal entry the user as Max A. The user's current therapy goal is Do good stuff. The user has a premium account. Response should be short\""
      ]
     },
     "execution_count": 16,
     "metadata": {},
     "output_type": "execute_result"
    }
   ],
   "source": [
    "file_name = 'config.json'\n",
    "name = 'Max A'\n",
    "goal = 'Do good stuff'\n",
    "with open(file_name, 'r') as file:\n",
    "    \n",
    "    json_data = json.load(file)\n",
    "\n",
    "json_data['journal_assistant_instructions'].format(name=name, goal=goal)"
   ]
  },
  {
   "cell_type": "code",
   "execution_count": null,
   "id": "2ff4edb7",
   "metadata": {},
   "outputs": [],
   "source": []
  }
 ],
 "metadata": {
  "kernelspec": {
   "display_name": "Python 3 (ipykernel)",
   "language": "python",
   "name": "python3"
  },
  "language_info": {
   "codemirror_mode": {
    "name": "ipython",
    "version": 3
   },
   "file_extension": ".py",
   "mimetype": "text/x-python",
   "name": "python",
   "nbconvert_exporter": "python",
   "pygments_lexer": "ipython3",
   "version": "3.11.5"
  }
 },
 "nbformat": 4,
 "nbformat_minor": 5
}
