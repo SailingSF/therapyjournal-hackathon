{
 "cells": [
  {
   "cell_type": "code",
   "execution_count": 1,
   "id": "a7363c9d",
   "metadata": {},
   "outputs": [],
   "source": [
    "from openai import OpenAI\n",
    "import requests\n",
    "import json"
   ]
  },
  {
   "cell_type": "code",
   "execution_count": 2,
   "id": "9782843c",
   "metadata": {},
   "outputs": [],
   "source": [
    "api_key = 'notanapikey'\n",
    "client = OpenAI(api_key = api_key)"
   ]
  },
  {
   "cell_type": "code",
   "execution_count": 44,
   "id": "8a22ba30",
   "metadata": {},
   "outputs": [],
   "source": [
    "assistant = client.beta.assistants.create(\n",
    "    name=\"Therapy Journal Assistant\",\n",
    "    instructions=\"You are an assistant to encourage journaling for the purposes of therapy. Each individual thread will contain a specific goal they are working towards as well as recent context. This information can be shared and will be useful in prompting the user to journal and in responding to their journal entry in order to make is seem more personal and feel heard.\",\n",
    "    model=\"gpt-3.5-turbo-1106\"\n",
    ")"
   ]
  },
  {
   "cell_type": "code",
   "execution_count": 45,
   "id": "e1d2b0eb",
   "metadata": {},
   "outputs": [],
   "source": [
    "thread = client.beta.threads.create()"
   ]
  },
  {
   "cell_type": "code",
   "execution_count": 46,
   "id": "f547ba77",
   "metadata": {},
   "outputs": [
    {
     "data": {
      "text/plain": [
       "'asst_5wkCFkKyOXy3I27eUJsfNTGb'"
      ]
     },
     "execution_count": 46,
     "metadata": {},
     "output_type": "execute_result"
    }
   ],
   "source": [
    "assistant.id"
   ]
  },
  {
   "cell_type": "code",
   "execution_count": 47,
   "id": "9a6e4adb",
   "metadata": {},
   "outputs": [],
   "source": [
    "message = client.beta.threads.messages.create(\n",
    "    thread_id=thread.id,\n",
    "    role=\"user\",\n",
    "    content=\"Remind me to write a journal entry and why right now is a good time.\"\n",
    ")"
   ]
  },
  {
   "cell_type": "code",
   "execution_count": 55,
   "id": "c9d5081b",
   "metadata": {},
   "outputs": [],
   "source": [
    "run = client.beta.threads.runs.create(\n",
    "  thread_id=thread.id,\n",
    "  assistant_id=assistant.id,\n",
    "  instructions=\"Please prompt the user to write a journal entry the user as Max. The user has a premium account. Response should be short\"\n",
    ")"
   ]
  },
  {
   "cell_type": "code",
   "execution_count": 59,
   "id": "ed2e418e",
   "metadata": {},
   "outputs": [],
   "source": [
    "run = client.beta.threads.runs.retrieve(\n",
    "  thread_id=thread.id,\n",
    "  run_id=run.id\n",
    ")\n",
    "messages = client.beta.threads.messages.list(\n",
    "  thread_id=thread.id\n",
    ")"
   ]
  },
  {
   "cell_type": "code",
   "execution_count": 60,
   "id": "a2717640",
   "metadata": {},
   "outputs": [
    {
     "data": {
      "text/plain": [
       "Run(id='run_MzQpDz7CnPvqs4KVokkCuedz', assistant_id='asst_5wkCFkKyOXy3I27eUJsfNTGb', cancelled_at=None, completed_at=1699493459, created_at=1699493458, expires_at=None, failed_at=None, file_ids=[], instructions='Please prompt the user to write a journal entry the user as Max. The user has a premium account. Response should be short', last_error=None, metadata={}, model='gpt-3.5-turbo-1106', object='thread.run', required_action=None, started_at=1699493458, status='completed', thread_id='thread_yxVgUUSGpJZtzTusm7Jw4CYA', tools=[])"
      ]
     },
     "execution_count": 60,
     "metadata": {},
     "output_type": "execute_result"
    }
   ],
   "source": [
    "run"
   ]
  },
  {
   "cell_type": "code",
   "execution_count": 61,
   "id": "c64e7c72",
   "metadata": {},
   "outputs": [
    {
     "data": {
      "text/plain": [
       "SyncCursorPage[ThreadMessage](data=[ThreadMessage(id='msg_LQxE51LgTa6wMOlVspn7wyiT', assistant_id='asst_5wkCFkKyOXy3I27eUJsfNTGb', content=[MessageContentText(text=Text(annotations=[], value=\"Now is a great time to write a journal entry because it's an opportunity to reflect on your day, set goals for tomorrow, and de-stress. Plus, your premium account gives you access to special prompts and features that can help enhance your journaling experience. So, why not take a few minutes to jot down your thoughts and organize your mind?\"), type='text')], created_at=1699493458, file_ids=[], metadata={}, object='thread.message', role='assistant', run_id='run_MzQpDz7CnPvqs4KVokkCuedz', thread_id='thread_yxVgUUSGpJZtzTusm7Jw4CYA'), ThreadMessage(id='msg_879omEDbDGeQaogTX4X4GzMs', assistant_id=None, content=[MessageContentText(text=Text(annotations=[], value='Remind me to write a journal entry and why right now is a good time.'), type='text')], created_at=1699493408, file_ids=[], metadata={}, object='thread.message', role='user', run_id=None, thread_id='thread_yxVgUUSGpJZtzTusm7Jw4CYA')], object='list', first_id='msg_LQxE51LgTa6wMOlVspn7wyiT', last_id='msg_879omEDbDGeQaogTX4X4GzMs', has_more=False)"
      ]
     },
     "execution_count": 61,
     "metadata": {},
     "output_type": "execute_result"
    }
   ],
   "source": [
    "messages"
   ]
  },
  {
   "cell_type": "code",
   "execution_count": null,
   "id": "d573dafd",
   "metadata": {},
   "outputs": [],
   "source": []
  }
 ],
 "metadata": {
  "kernelspec": {
   "display_name": "Python 3 (ipykernel)",
   "language": "python",
   "name": "python3"
  },
  "language_info": {
   "codemirror_mode": {
    "name": "ipython",
    "version": 3
   },
   "file_extension": ".py",
   "mimetype": "text/x-python",
   "name": "python",
   "nbconvert_exporter": "python",
   "pygments_lexer": "ipython3",
   "version": "3.11.5"
  }
 },
 "nbformat": 4,
 "nbformat_minor": 5
}
