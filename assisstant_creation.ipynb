{
 "cells": [
  {
   "cell_type": "code",
   "execution_count": 65,
   "id": "a7363c9d",
   "metadata": {},
   "outputs": [],
   "source": [
    "from openai import OpenAI\n",
    "import requests\n",
    "import json\n",
    "import os"
   ]
  },
  {
   "cell_type": "code",
   "execution_count": 66,
   "id": "9782843c",
   "metadata": {},
   "outputs": [],
   "source": [
    "api_key = os.getenv('OPENAI_API_KEY')\n",
    "client = OpenAI(api_key = api_key)"
   ]
  },
  {
   "cell_type": "markdown",
   "id": "0a7c1e95",
   "metadata": {},
   "source": [
    "This notebook is a demostration of how to create the AI Assistants from OpenAI required for the therapy journal bot. This does not need to be run but shows how to create assistants and use the API with python. The pertinent data that needs to be added to the config file(s) is called out."
   ]
  },
  {
   "cell_type": "code",
   "execution_count": 44,
   "id": "8a22ba30",
   "metadata": {},
   "outputs": [],
   "source": [
    "# Create the assistant initially with a name and assistant instructions.\n",
    "# Instructions are used throught the assistant\n",
    "assistant = client.beta.assistants.create(\n",
    "    name=\"Journaling Assistant\",\n",
    "    instructions=\"You are an assistant to encourage journaling for the purposes of therapy. Each individual thread will contain a specific goal they are working towards as well as recent context. This information can be shared and will be useful in prompting the user to journal and in responding to their journal entry in order to make is seem more personal and feel heard.\",\n",
    "    model=\"gpt-3.5-turbo-1106\"\n",
    ")"
   ]
  },
  {
   "cell_type": "code",
   "execution_count": 45,
   "id": "e1d2b0eb",
   "metadata": {},
   "outputs": [],
   "source": [
    "# creating a new thread\n",
    "thread = client.beta.threads.create()"
   ]
  },
  {
   "cell_type": "code",
   "execution_count": 46,
   "id": "77b429fe",
   "metadata": {},
   "outputs": [
    {
     "data": {
      "text/plain": [
       "'asst_5wkCFkKyOXy3I27eUJsfNTGb'"
      ]
     },
     "execution_count": 46,
     "metadata": {},
     "output_type": "execute_result"
    }
   ],
   "source": [
    "# showing an assistant id\n",
    "# this needs to be added to the config file depending on the assistant you created\n",
    "# it can also be found in the platform.openai UI\n",
    "assistant.id"
   ]
  },
  {
   "cell_type": "code",
   "execution_count": 47,
   "id": "6d1f7daf",
   "metadata": {},
   "outputs": [],
   "source": [
    "# example of creating a message\n",
    "message = client.beta.threads.messages.create(\n",
    "    thread_id=thread.id,\n",
    "    role=\"user\",\n",
    "    content=\"Remind me to write a journal entry and why right now is a good time.\"\n",
    ")"
   ]
  },
  {
   "cell_type": "code",
   "execution_count": 55,
   "id": "a5f47259",
   "metadata": {},
   "outputs": [],
   "source": []
  },
  {
   "cell_type": "code",
   "execution_count": 59,
   "id": "22614e73",
   "metadata": {},
   "outputs": [],
   "source": [
    "# retriving run object\n",
    "run = client.beta.threads.runs.retrieve(\n",
    "  thread_id=thread.id,\n",
    "  run_id=run.id\n",
    ")\n",
    "# retrieving messages\n",
    "messages = client.beta.threads.messages.list(\n",
    "  thread_id=thread.id\n",
    ")"
   ]
  },
  {
   "cell_type": "code",
   "execution_count": 62,
   "id": "b2f327d3",
   "metadata": {},
   "outputs": [
    {
     "data": {
      "text/plain": [
       "'completed'"
      ]
     },
     "execution_count": 62,
     "metadata": {},
     "output_type": "execute_result"
    }
   ],
   "source": [
    "# showing status to know when updates to thread\n",
    "run.status"
   ]
  },
  {
   "cell_type": "code",
   "execution_count": 61,
   "id": "0da228ad",
   "metadata": {},
   "outputs": [
    {
     "data": {
      "text/plain": [
       "SyncCursorPage[ThreadMessage](data=[ThreadMessage(id='msg_LQxE51LgTa6wMOlVspn7wyiT', assistant_id='asst_5wkCFkKyOXy3I27eUJsfNTGb', content=[MessageContentText(text=Text(annotations=[], value=\"Now is a great time to write a journal entry because it's an opportunity to reflect on your day, set goals for tomorrow, and de-stress. Plus, your premium account gives you access to special prompts and features that can help enhance your journaling experience. So, why not take a few minutes to jot down your thoughts and organize your mind?\"), type='text')], created_at=1699493458, file_ids=[], metadata={}, object='thread.message', role='assistant', run_id='run_MzQpDz7CnPvqs4KVokkCuedz', thread_id='thread_yxVgUUSGpJZtzTusm7Jw4CYA'), ThreadMessage(id='msg_879omEDbDGeQaogTX4X4GzMs', assistant_id=None, content=[MessageContentText(text=Text(annotations=[], value='Remind me to write a journal entry and why right now is a good time.'), type='text')], created_at=1699493408, file_ids=[], metadata={}, object='thread.message', role='user', run_id=None, thread_id='thread_yxVgUUSGpJZtzTusm7Jw4CYA')], object='list', first_id='msg_LQxE51LgTa6wMOlVspn7wyiT', last_id='msg_879omEDbDGeQaogTX4X4GzMs', has_more=False)"
      ]
     },
     "execution_count": 61,
     "metadata": {},
     "output_type": "execute_result"
    }
   ],
   "source": [
    "# showing message object\n",
    "messages"
   ]
  },
  {
   "cell_type": "code",
   "execution_count": 70,
   "id": "9f751270",
   "metadata": {},
   "outputs": [
    {
     "data": {
      "text/plain": [
       "SyncCursorPage[ThreadMessage](data=[ThreadMessage(id='msg_wIm4dEuX6W4gsV5FjSXj8buK', assistant_id='asst_5wkCFkKyOXy3I27eUJsfNTGb', content=[MessageContentText(text=Text(annotations=[], value='Hey Max, it\\'s a great time to write a journal entry because it\\'s an opportunity to reflect on your progress towards your therapy goal of \"Do good.\" Your premium account gives you unlimited access to journaling features, so take advantage of it and express your thoughts and emotions. Write a journal entry now to capture this moment and explore the positive impact you\\'ve made recently.'), type='text')], created_at=1699561322, file_ids=[], metadata={}, object='thread.message', role='assistant', run_id='run_koYGi6HCzUHJukCP0kKJTqdc', thread_id='thread_mVHvrXaLjuw0iha3WPAeoFM5'), ThreadMessage(id='msg_12LeVA6k3EEElWbpdITPKl4L', assistant_id=None, content=[MessageContentText(text=Text(annotations=[], value='Remind me to write a journal entry and why right now is a good time.'), type='text')], created_at=1699561321, file_ids=[], metadata={}, object='thread.message', role='user', run_id=None, thread_id='thread_mVHvrXaLjuw0iha3WPAeoFM5'), ThreadMessage(id='msg_12BAoerA1gIqwhK4cfHCQm6u', assistant_id=None, content=[MessageContentText(text=Text(annotations=[], value='Remind me to write a journal entry and why right now is a good time.'), type='text')], created_at=1699560178, file_ids=[], metadata={}, object='thread.message', role='user', run_id=None, thread_id='thread_mVHvrXaLjuw0iha3WPAeoFM5')], object='list', first_id='msg_wIm4dEuX6W4gsV5FjSXj8buK', last_id='msg_12BAoerA1gIqwhK4cfHCQm6u', has_more=False)"
      ]
     },
     "execution_count": 70,
     "metadata": {},
     "output_type": "execute_result"
    }
   ],
   "source": [
    "thread_id = \"thread_mVHvrXaLjuw0iha3WPAeoFM5\"\n",
    "messages = client.beta.threads.messages.list(\n",
    "  thread_id=thread_id\n",
    ")\n",
    "messages"
   ]
  },
  {
   "cell_type": "code",
   "execution_count": 88,
   "id": "61010673",
   "metadata": {},
   "outputs": [
    {
     "data": {
      "text/plain": [
       "'Hey Max, it\\'s a great time to write a journal entry because it\\'s an opportunity to reflect on your progress towards your therapy goal of \"Do good.\" Your premium account gives you unlimited access to journaling features, so take advantage of it and express your thoughts and emotions. Write a journal entry now to capture this moment and explore the positive impact you\\'ve made recently.'"
      ]
     },
     "execution_count": 88,
     "metadata": {},
     "output_type": "execute_result"
    }
   ],
   "source": [
    "messages.data[0].content[0].text.value"
   ]
  },
  {
   "cell_type": "code",
   "execution_count": 89,
   "id": "e62deb4d",
   "metadata": {},
   "outputs": [],
   "source": [
    "# creation of second assistant to analyze messages for a therapist.\n",
    "assistant = client.beta.assistants.create(\n",
    "    name=\"Therapist - Journal Analysis - Assistant\",\n",
    "    instructions=\"You are an assistant to a professional therapist. You analyze journal entries in order to create summaries and insights for a therapist.\",\n",
    "    model=\"gpt-3.5-turbo-1106\"\n",
    ")"
   ]
  },
  {
   "cell_type": "code",
   "execution_count": 90,
   "id": "38951dbb",
   "metadata": {},
   "outputs": [
    {
     "data": {
      "text/plain": [
       "'asst_imITlDSEozVh65NFhuaL6bWd'"
      ]
     },
     "execution_count": 90,
     "metadata": {},
     "output_type": "execute_result"
    }
   ],
   "source": [
    "# new assistant ID needs to be added to config files\n",
    "assistant.id"
   ]
  },
  {
   "cell_type": "code",
   "execution_count": 91,
   "id": "d59301c0",
   "metadata": {},
   "outputs": [
    {
     "data": {
      "text/plain": [
       "'thread_EAchhyBa9MiuR1BGYNo1kepK'"
      ]
     },
     "execution_count": 91,
     "metadata": {},
     "output_type": "execute_result"
    }
   ],
   "source": [
    "thread = client.beta.threads.create()\n",
    "thread.id"
   ]
  },
  {
   "cell_type": "code",
   "execution_count": null,
   "id": "c0b91b8b",
   "metadata": {},
   "outputs": [],
   "source": []
  }
 ],
 "metadata": {
  "kernelspec": {
   "display_name": "Python 3 (ipykernel)",
   "language": "python",
   "name": "python3"
  },
  "language_info": {
   "codemirror_mode": {
    "name": "ipython",
    "version": 3
   },
   "file_extension": ".py",
   "mimetype": "text/x-python",
   "name": "python",
   "nbconvert_exporter": "python",
   "pygments_lexer": "ipython3",
   "version": "3.11.5"
  }
 },
 "nbformat": 4,
 "nbformat_minor": 5
}
